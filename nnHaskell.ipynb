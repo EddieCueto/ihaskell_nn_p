{
 "cells": [
  {
   "cell_type": "markdown",
   "metadata": {},
   "source": [
    "# Diseñar una Red Neuronal usando un lenguaje funcional "
   ]
  },
  {
   "cell_type": "markdown",
   "metadata": {},
   "source": [
    "\n"
   ]
  },
  {
   "cell_type": "markdown",
   "metadata": {},
   "source": [
    "En la actualidad existen tres argumentos usados para interpretar deep learning:\n",
    "\n",
    "- uno basado en las neurociencias que, crea analogías entre las redes neuronales y la **biologia**;\n",
    "- el argumento de **representaciones** usa transformaciones de datos y la **hipótesis de variedades** (manifold hypothesis);\n",
    "- finalmente el enfoque **probabilista**, el cual argumenta que las redes neuronales son similares a encontrar variables latentes.\n",
    "\n",
    "Estos argumentos no son mutuamente exclusivos, pero representan tres maneras diferentes de comprender el deep learning."
   ]
  },
  {
   "cell_type": "markdown",
   "metadata": {},
   "source": [
    "### Las representaciones son tipos"
   ]
  },
  {
   "cell_type": "markdown",
   "metadata": {},
   "source": [
    "En cada capa de una red neuronal, a los datos se les aplica una transformación, para facilitar la tarea a realizar, \n",
    "estas versiones transformadas de los datos iniciales se les conoce como **representaciones**.\n",
    "Para representar fielmente una red neuronal, en un lenguaje funcional, se asume que las representaciones \n",
    "corresponden a un **tipo**. "
   ]
  },
  {
   "cell_type": "markdown",
   "metadata": {},
   "source": [
    "Los **tipos** en ciencias de la computación corresponden a una manera de 'encajar' algún tipo de dato en n bits, similarmente, las representaciones en deep learning corresponden a 'encajar' una **variedad** de datos en n dimensiones."
   ]
  },
  {
   "cell_type": "markdown",
   "metadata": {},
   "source": [
    "En la programación funcional dos funciones solo se pueden componer si ambas funciones poseen el mismo *tipo*, \n",
    "dos capas solo se pueden componer cuando la *representación* de los datos corresponde entre sí.\n",
    "Durante el entrenamiento las capas adyacentes negocian la *representación* a usar; el rendimiento de la red depende de que los datos se encuentren en la *representación* que la red espera."
   ]
  },
  {
   "cell_type": "code",
   "execution_count": null,
   "metadata": {},
   "outputs": [],
   "source": []
  }
 ],
 "metadata": {
  "kernelspec": {
   "display_name": "Haskell",
   "language": "haskell",
   "name": "haskell"
  },
  "language_info": {
   "codemirror_mode": "ihaskell",
   "file_extension": ".hs",
   "name": "haskell",
   "version": "8.0.2"
  }
 },
 "nbformat": 4,
 "nbformat_minor": 2
}
